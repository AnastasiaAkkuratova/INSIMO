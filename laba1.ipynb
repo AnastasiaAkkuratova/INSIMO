{
  "nbformat": 4,
  "nbformat_minor": 0,
  "metadata": {
    "colab": {
      "provenance": [],
      "authorship_tag": "ABX9TyNOR4DsbkOrkpc2rGOQ1/wq",
      "include_colab_link": true
    },
    "kernelspec": {
      "name": "python3",
      "display_name": "Python 3"
    },
    "language_info": {
      "name": "python"
    }
  },
  "cells": [
    {
      "cell_type": "markdown",
      "metadata": {
        "id": "view-in-github",
        "colab_type": "text"
      },
      "source": [
        "<a href=\"https://colab.research.google.com/github/AnastasiaAkkuratova/INSIMO/blob/laba1/laba1.ipynb\" target=\"_parent\"><img src=\"https://colab.research.google.com/assets/colab-badge.svg\" alt=\"Open In Colab\"/></a>"
      ]
    },
    {
      "cell_type": "code",
      "execution_count": 6,
      "metadata": {
        "id": "Ucffga0PRTaX"
      },
      "outputs": [],
      "source": [
        "int_variable = 5  # int\n",
        "assert isinstance(int_variable, int)\n",
        "\n",
        "float_variable = 5.1 # float\n",
        "assert isinstance(float_variable, float)\n",
        "\n",
        "string_variable = 'hello world)' # string\n",
        "assert isinstance(string_variable, str)\n",
        "\n",
        "bool_variable = True  # bool\n",
        "assert isinstance(bool_variable, bool)"
      ]
    },
    {
      "cell_type": "code",
      "source": [
        "list_variable = ['hello world)', 5]  # list\n",
        "assert isinstance(list_variable, list)\n",
        "\n",
        "tuple_variable = ('hello world)', 5, 'hello world)')  # tuple\n",
        "assert isinstance(tuple_variable, tuple)\n",
        "\n",
        "set_variable = {1, 5}  # set\n",
        "assert isinstance(set_variable, set)\n",
        "\n",
        "dict_variable = {'number': 1, 'name':'Anastasia'}  # dict\n",
        "assert isinstance(dict_variable, dict)"
      ],
      "metadata": {
        "id": "1nCYOEH-RbLn"
      },
      "execution_count": 8,
      "outputs": []
    },
    {
      "cell_type": "code",
      "source": [
        "def difference_of_two_numbers(first, second):\n",
        "    \"\"\"Возвращает разницу между первым и вторым аргументом\"\"\"\n",
        "    return abs(first-second)\n",
        "    pass\n",
        "\n",
        "\n",
        "assert difference_of_two_numbers(2, 1) == 1\n",
        "assert difference_of_two_numbers(4, 1) == 3\n",
        "assert difference_of_two_numbers(10, 0) == 10\n",
        "assert difference_of_two_numbers(-5, -6) == 1"
      ],
      "metadata": {
        "id": "0CwYv4VUTlxo"
      },
      "execution_count": 9,
      "outputs": []
    },
    {
      "cell_type": "code",
      "source": [
        "def condition_function(input_number):\n",
        "    \"\"\"\n",
        "    Если входное число меньше либо равно 0, то умножить его на 2.\n",
        "    В противном случае, если число больше 0, но меньше или равно 10, умножить на 3.\n",
        "    Во всех прочих случаях поделить на 10.\n",
        "    \"\"\"\n",
        "    if input_number <= 0:\n",
        "        return input_number * 2\n",
        "    elif input_number > 0 and input_number <= 10: \n",
        "        return input_number * 3\n",
        "    else:\n",
        "        return input_number / 10\n",
        "    pass\n",
        "\n",
        "\n",
        "assert condition_function(0) == 0\n",
        "assert condition_function(-1) == -2\n",
        "assert condition_function(1) == 3\n",
        "assert condition_function(10) == 30\n",
        "assert condition_function(11) == 1.1\n",
        "assert condition_function(20) == 2"
      ],
      "metadata": {
        "id": "HXFItSkaTy7k"
      },
      "execution_count": 11,
      "outputs": []
    },
    {
      "cell_type": "code",
      "source": [
        "def calculator(number_1, operation, number_2):\n",
        "    \"\"\"\n",
        "    Простой оператор, способный выполнять операции +, -, *, /.\n",
        "    На входе первое число, операция в виде строки и второе число.\n",
        "    \n",
        "    Пример: \n",
        "    >>> calculator(1, \"+\", 1)\n",
        "    >>> 2\n",
        "    \"\"\"\n",
        "    if operation == \"+\":\n",
        "        return number_1 + number_2\n",
        "    elif operation == \"-\":\n",
        "        return number_1 - number_2\n",
        "    elif operation == \"*\":\n",
        "        return number_1 * number_2\n",
        "    elif operation == \"/\":\n",
        "        return number_1 / number_2\n",
        "    pass\n",
        "\n",
        "\n",
        "assert calculator(1, \"+\", 2) == 3\n",
        "assert calculator(3, \"-\", 1) == 2\n",
        "assert calculator(4, \"*\", 3) == 12\n",
        "assert calculator(2, \"/\", 2) == 1"
      ],
      "metadata": {
        "id": "2-Ojn2Y3UPVD"
      },
      "execution_count": 2,
      "outputs": []
    },
    {
      "cell_type": "code",
      "source": [
        "def number_of_unique_elements(input_list):\n",
        "    \"\"\"\n",
        "    Считает количество уникальных элементов в листе.\n",
        "    \"\"\"\n",
        "    uniq_el = set(input_list)\n",
        "    return len(uniq_el)  \n",
        "    pass\n",
        "\n",
        "\n",
        "assert number_of_unique_elements([1, 2, 3]) == 3\n",
        "assert number_of_unique_elements([1] * 93) == 1\n",
        "assert number_of_unique_elements(list(range(1000))) == 1000"
      ],
      "metadata": {
        "id": "fYQGnuYlU1cz"
      },
      "execution_count": 13,
      "outputs": []
    },
    {
      "cell_type": "code",
      "source": [
        "def counter(input_list):\n",
        "    \"\"\"\n",
        "    Считает количество вхождений каждого из элементов листа.\n",
        "    Возвращает словарь вида {число: количество вхождений}\n",
        "    \n",
        "    Замечание (!): встроенным в collections Counter'ом пользоваться нельзя\n",
        "    \n",
        "    Например:\n",
        "    counter([1, 1, 2, 3]) вернет {1: 2, 2: 1, 3: 1}\n",
        "    \"\"\"\n",
        "    c = {}\n",
        "    for a in input_list:\n",
        "        if a not in c:\n",
        "            c[a] = 1\n",
        "        else:\n",
        "            c[a] += 1\n",
        "    return c\n",
        "    pass\n",
        "\n",
        "\n",
        "assert counter([1, 1, 1, 2, 3]) == {1: 3, 2: 1, 3: 1}\n",
        "assert counter([1] * 1000) == {1: 1000}\n",
        "assert counter([1, 3, 5] * 100) == {1: 100, 3: 100, 5: 100}"
      ],
      "metadata": {
        "id": "eTtd70CwVHnW"
      },
      "execution_count": 14,
      "outputs": []
    },
    {
      "cell_type": "code",
      "source": [
        "def multiply_nums(input_string):\n",
        "    \"\"\"\n",
        "    Перемножить числа, переданные в строке, перечисленные через запятую.\n",
        "    \n",
        "    hint: можно использовать метод .split()\n",
        "    \"\"\"\n",
        "    x = 1\n",
        "    nums = input_string.split(\",\")\n",
        "    for num in nums:\n",
        "        x = x*int(num)\n",
        "    return x\n",
        "    pass\n",
        "\n",
        "\n",
        "assert multiply_nums(\"2, 3\") == 6\n",
        "assert multiply_nums(\"1, 1, 1, 1, 1, 1, 1\") == 1\n",
        "assert multiply_nums(\"345, 4576, 794, 325, 0\") == 0"
      ],
      "metadata": {
        "id": "9sGW3U9sVV9r"
      },
      "execution_count": 3,
      "outputs": []
    },
    {
      "cell_type": "code",
      "source": [
        "from math import *\n",
        "def custom_function(x):\n",
        "    \"\"\"\n",
        "    Реализуйте функцию, описанную выше.\n",
        "    \"\"\"\n",
        "    y = sin(x) * cos(x)\n",
        "    return y \n",
        "    pass\n",
        "\n",
        "assert round(custom_function(1), 3) == 0.455\n",
        "assert round(custom_function(1.5), 3) == 0.071\n",
        "assert round(custom_function(2), 3) == -0.378\n",
        "assert custom_function(0) == 0"
      ],
      "metadata": {
        "id": "Ofr88x35VyLA"
      },
      "execution_count": 5,
      "outputs": []
    },
    {
      "cell_type": "code",
      "source": [
        "def custom_function_1(x, n):\n",
        "    \"\"\"\n",
        "    Реализуйте функцию, описанную выше.\n",
        "    \"\"\"\n",
        "    a = 1\n",
        "    for i in range(1, n + 1):\n",
        "        y = (((i + 2)**x + log(x)) / (x**2 + 4 * i))  \n",
        "        a = a*y\n",
        "    return a\n",
        "    pass\n",
        "\n",
        "\n",
        "assert round(custom_function_1(2, 3), 3) == 2.707\n",
        "assert round(custom_function_1(3, 2), 3) == 8.277\n",
        "assert round(custom_function_1(3, 3), 3) == 49.7"
      ],
      "metadata": {
        "id": "qwmdH9LNWBWl"
      },
      "execution_count": 7,
      "outputs": []
    },
    {
      "cell_type": "code",
      "source": [
        "class MyList:\n",
        "    def __init__(self, m):\n",
        "        self.m = m\n",
        "        pass\n",
        "    \n",
        "    def return_sum(self):\n",
        "        \"\"\"\n",
        "        Возвращает сумму всех элементов сохраненного листа.\n",
        "        Пользоваться sum нельзя!\n",
        "        \"\"\"\n",
        "        a = 0\n",
        "        for i in self.m:\n",
        "            a += i\n",
        "        return a\n",
        "        pass\n",
        "    \n",
        "    def make_reverse(self):\n",
        "        \"\"\"\n",
        "        Разворачивает сохраненный лист.\n",
        "        \"\"\"\n",
        "        return self.m[::-1]\n",
        "        pass\n",
        "    \n",
        "    def make_slice(self, start, stop):\n",
        "        \"\"\"\n",
        "        Делает слайсинг сохраненного листа.\n",
        "        \"\"\"\n",
        "        return self.m[start:stop]\n",
        "        pass\n",
        "    \n",
        "    \n",
        "a = MyList([1, 2, 3, 4])\n",
        "assert a.return_sum() == 10\n",
        "assert a.make_reverse() == [4, 3, 2, 1]\n",
        "assert a.make_slice(0, 2) == [1, 2]\n",
        "\n",
        "b = MyList([5, 6, 6, 5])\n",
        "assert b.return_sum() == 22\n",
        "assert b.make_reverse() == [5, 6, 6, 5]\n",
        "assert b.make_slice(1, 2) == [6]"
      ],
      "metadata": {
        "id": "w87Tgt_pWcQw"
      },
      "execution_count": 9,
      "outputs": []
    },
    {
      "cell_type": "code",
      "source": [],
      "metadata": {
        "id": "TuxRb8pNYL09"
      },
      "execution_count": null,
      "outputs": []
    }
  ]
}